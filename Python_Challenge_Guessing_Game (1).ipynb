{
 "cells": [
  {
   "cell_type": "markdown",
   "metadata": {
    "id": "NQuOyznPahpH"
   },
   "source": [
    "# Guessing Game Challenge\n",
    "\n",
    "Let's use `while` loops to create a guessing game.\n",
    "\n",
    "The Challenge:\n",
    "\n",
    "Write a program that picks a random integer from 1 to 100, and has players guess the number. The rules are:\n",
    "\n",
    "1. If a player's guess is less than 1 or greater than 100, say \"OUT OF BOUNDS\"\n",
    "\n",
    "2. On all turns, if a guess is \n",
    " * closer to the number than the previous guess return \"Closer!\"\n",
    " * farther from the number than the previous guess, return \"Farther!\"\n",
    "3. When the player's guess equals the number, tell them they've guessed correctly *and* how many guesses it took!\n",
    "\n",
    "Now Lets o fro the Steps!"
   ]
  },
  {
   "cell_type": "markdown",
   "metadata": {
    "id": "6K7SSiaEahpK"
   },
   "source": [
    "#### First, Build a Line of Code that can Return arandom integer from 1 to 100 and store this number in object called Actual"
   ]
  },
  {
   "cell_type": "code",
   "execution_count": 1,
   "metadata": {
    "id": "8R7ayXGwahpL"
   },
   "outputs": [
    {
     "name": "stdout",
     "output_type": "stream",
     "text": [
      "73\n"
     ]
    }
   ],
   "source": [
    "#Type Your Code Here  - Replace None with Correct  Function  \n",
    "from random import randint\n",
    "Actual =  randint(1,100)\n",
    "print(Actual)"
   ]
  },
  {
   "cell_type": "markdown",
   "metadata": {
    "id": "la65uFUjahpO"
   },
   "source": [
    "#### Next, build a Code to display an introduction to the Game to tell the user the Boundaries from 1 to 100 and what is his target."
   ]
  },
  {
   "cell_type": "code",
   "execution_count": 3,
   "metadata": {
    "id": "cpMGPRNT7F-J"
   },
   "outputs": [
    {
     "name": "stdout",
     "output_type": "stream",
     "text": [
      "Welcome to the gussing game ^_^\n",
      "Guess Boundaries from 1 to 100\n"
     ]
    }
   ],
   "source": [
    "#Type Your Code here \n",
    "print(\"Welcome to the gussing game ^_^\")\n",
    "print(\"Guess Boundaries from 1 to 100\")"
   ]
  },
  {
   "cell_type": "markdown",
   "metadata": {
    "id": "GyW_z6Sf74yG"
   },
   "source": [
    "### Next, Build a Code that takes an integer input from the user "
   ]
  },
  {
   "cell_type": "code",
   "execution_count": 4,
   "metadata": {
    "id": "UZCNvK4o82k-"
   },
   "outputs": [
    {
     "name": "stdout",
     "output_type": "stream",
     "text": [
      "please enter your num:55\n"
     ]
    }
   ],
   "source": [
    "#Type Your Code Here - Replace None With Correct Function \n",
    "Guess= int(input(\"please enter your num:\")) "
   ]
  },
  {
   "cell_type": "markdown",
   "metadata": {
    "id": "BHsh0slo834l"
   },
   "source": [
    "### Next, Put the Upper Cell in A Loop that keeps checking if the Number is Out of Bounds or Not  "
   ]
  },
  {
   "cell_type": "code",
   "execution_count": 2,
   "metadata": {
    "id": "Xx00D-J89xsk"
   },
   "outputs": [
    {
     "name": "stdout",
     "output_type": "stream",
     "text": [
      "please enter your num again:73\n"
     ]
    }
   ],
   "source": [
    "#Replace None Values with correct conditions or Booleans\n",
    "while(1):\n",
    "    Guess= int(input(\"please enter your num again:\"))\n",
    "  # Take input from user\n",
    "    if  Guess>100 or Guess<0:\n",
    "        print(\"OUT OF BOUNDS\")\n",
    "    else:\n",
    "        break"
   ]
  },
  {
   "cell_type": "markdown",
   "metadata": {
    "id": "d-USlvx8dNak"
   },
   "source": [
    "### Next, Build a Code that Check if the Guess is equal to the Actual Random Number"
   ]
  },
  {
   "cell_type": "code",
   "execution_count": 9,
   "metadata": {
    "id": "E95mJnFNdfiW"
   },
   "outputs": [
    {
     "name": "stdout",
     "output_type": "stream",
     "text": [
      "Wow, you've guessed Correctly this time\n",
      "You have guessed it in 1 times\n"
     ]
    }
   ],
   "source": [
    "guesses= [] #Make it an Empty List \n",
    "#Change None to Correct Boolean between\n",
    "if  Guess==Actual:\n",
    "    print (\"Wow, you've guessed Correctly this time\") #Fix \n",
    "    print('You have guessed it in {} times'.format(len(guesses))) # Put function that calculate the Real Number of Guesses "
   ]
  },
  {
   "cell_type": "markdown",
   "metadata": {
    "id": "VWNf49z6WVek"
   },
   "source": [
    "### Next, Build a Code that Check on Each Guess whether its closer than the Previous Guess or not."
   ]
  },
  {
   "cell_type": "code",
   "execution_count": null,
   "metadata": {
    "id": "O7McDw6pbVfX"
   },
   "outputs": [],
   "source": [
    "while(Actual!=Guess):\n",
    "    if Guess < Actual:\n",
    "        print(' you are closer to target ')\n",
    "    else:\n",
    "        print(' you are far from the target ')\n",
    "\n"
   ]
  },
  {
   "cell_type": "markdown",
   "metadata": {
    "id": "v-wMuTZLahpY"
   },
   "source": [
    "#### Write a `while` loop that compares the player's guess to our number. If the player guesses correctly, break from the loop. Otherwise, tell the player if they're Closer or Farer , and continue asking for guesses.\n",
    "\n",
    "**Try to Collect All the cells you 've made above and use it here**\n",
    "\n",
    "Hint:\n",
    "\n",
    "\n",
    "* you can use the `abs()` function to find the positive difference between two numbers\n",
    "\n",
    "\n",
    "# Decomposition \n",
    "\n",
    "*   Choosing Random Number\n",
    "*   Game Intro for the User\n",
    "*   Checking on the Inserted Guess if its in boundary or not\n",
    "*   Checking on the Inserted Guess if its equal to the Random Number or Not\n",
    "*   Checking on the Inserted Guess if its Far or Close from the Previous Guess.\n",
    "\n",
    "\n",
    "\n"
   ]
  },
  {
   "cell_type": "code",
   "execution_count": 4,
   "metadata": {
    "id": "FaifUKKUahpZ"
   },
   "outputs": [],
   "source": [
    "# Type your Final Code here\n",
    "def game():\n",
    "    while True:\n",
    "        Guess= int(input(\"please enter your num:\"))\n",
    "        if  Guess>100 or Guess<0:\n",
    "            print(\"OUT OF BOUNDS\")\n",
    "            guesses.append(Guess)\n",
    "        elif Guess < Actual:\n",
    "            print('you are closer to target ')\n",
    "            guesses.append(Guess)\n",
    "        elif Guess > Actual:\n",
    "            print('you are far from the target ')\n",
    "            guesses.append(Guess)\n",
    "        elif Guess==Actual:\n",
    "            guesses.append(Guess)\n",
    "            print (\"Wow, you've guessed Correctly this time\") \n",
    "            print('You have guessed it in {} times'.format(len(guesses)))"
   ]
  },
  {
   "cell_type": "code",
   "execution_count": null,
   "metadata": {
    "id": "3WmFudWAl7gi"
   },
   "outputs": [
    {
     "name": "stdout",
     "output_type": "stream",
     "text": [
      "11\n",
      "Welcome to the gussing game ^_^\n",
      "Guess Boundaries from 1 to 100\n",
      "please enter your num:54\n",
      "you are far from the target \n",
      "please enter your num:11\n",
      "Wow, you've guessed Correctly this time\n",
      "You have guessed it in 2 times\n"
     ]
    }
   ],
   "source": [
    "from random import randint\n",
    "Actual =  randint(1,100)\n",
    "guesses=[]\n",
    "print(Actual)\n",
    "print(\"Welcome to the gussing game ^_^\")\n",
    "print(\"Guess Boundaries from 1 to 100\")\n",
    "# Type here the Big Loop\n",
    "while True:\n",
    "    game()"
   ]
  },
  {
   "cell_type": "markdown",
   "metadata": {
    "id": "5UZ7l5wEahpb"
   },
   "source": [
    "That's it! You've just programmed your first game!\n",
    "\n",
    "In the next section we'll learn how to turn some of these repetitive actions into *functions* that can be called whenever we need them."
   ]
  },
  {
   "cell_type": "markdown",
   "metadata": {
    "id": "HlHfgyZ9ahpc"
   },
   "source": [
    "### Good Job!"
   ]
  }
 ],
 "metadata": {
  "colab": {
   "name": "Python Challenge Guessing Game.ipynb",
   "provenance": []
  },
  "kernelspec": {
   "display_name": "Python 3",
   "language": "python",
   "name": "python3"
  },
  "language_info": {
   "codemirror_mode": {
    "name": "ipython",
    "version": 3
   },
   "file_extension": ".py",
   "mimetype": "text/x-python",
   "name": "python",
   "nbconvert_exporter": "python",
   "pygments_lexer": "ipython3",
   "version": "3.7.4"
  }
 },
 "nbformat": 4,
 "nbformat_minor": 1
}
