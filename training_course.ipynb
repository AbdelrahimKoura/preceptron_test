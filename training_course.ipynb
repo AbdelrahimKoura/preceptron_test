{
  "nbformat": 4,
  "nbformat_minor": 0,
  "metadata": {
    "colab": {
      "name": "training_course.ipynb",
      "provenance": [],
      "authorship_tag": "ABX9TyPQVf33a1YKTzFQQ515GLCn",
      "include_colab_link": true
    },
    "kernelspec": {
      "name": "python3",
      "display_name": "Python 3"
    },
    "language_info": {
      "name": "python"
    }
  },
  "cells": [
    {
      "cell_type": "markdown",
      "metadata": {
        "id": "view-in-github",
        "colab_type": "text"
      },
      "source": [
        "<a href=\"https://colab.research.google.com/github/AbdelrahimKoura/preceptron_test/blob/main/training_course.ipynb\" target=\"_parent\"><img src=\"https://colab.research.google.com/assets/colab-badge.svg\" alt=\"Open In Colab\"/></a>"
      ]
    },
    {
      "cell_type": "code",
      "execution_count": 1,
      "metadata": {
        "id": "f2JE3ukQPLcr"
      },
      "outputs": [],
      "source": [
        "class Dog:\n",
        "    \"\"\"A simple attempt to model a dog.\"\"\"\n",
        "    def __init__(self, name, age):\n",
        "        \"\"\"Initialize name and age attributes.\"\"\"\n",
        "        self.name = name\n",
        "        self.age = age\n",
        "    \n",
        "    def sit(self):\n",
        "        \"\"\"Simulate a dog sitting in response to a command.\"\"\"\n",
        "        print(f\"{self.name} is now sitting.\")\n",
        "        \n",
        "    def roll_over(self):\n",
        "        \"\"\"Simulate rolling over in response to a command.\"\"\"\n",
        "        print(f\"{self.name} rolled over!\")"
      ]
    },
    {
      "cell_type": "code",
      "source": [
        "my_dog = Dog('Willie', 6)\n",
        "\n",
        "you_dog =Dog('jhon',8)\n",
        "\n",
        "print(f\"My dog's name is {my_dog.name}.\")\n",
        "print(f\"My dog is {my_dog.age} years old.\")"
      ],
      "metadata": {
        "colab": {
          "base_uri": "https://localhost:8080/"
        },
        "id": "RG-pfuvuel_J",
        "outputId": "4ca7a21a-835d-430f-9bdb-6da9dd672fae"
      },
      "execution_count": 2,
      "outputs": [
        {
          "output_type": "stream",
          "name": "stdout",
          "text": [
            "My dog's name is Willie.\n",
            "My dog is 6 years old.\n"
          ]
        }
      ]
    },
    {
      "cell_type": "code",
      "source": [
        "print(f\"My dog's name is {you_dog.name}.\")\n",
        "print(f\"My dog is {you_dog.age} years old.\")"
      ],
      "metadata": {
        "colab": {
          "base_uri": "https://localhost:8080/"
        },
        "id": "KrSvxZZefHrS",
        "outputId": "ba33b9e9-a22b-4972-9966-386dda33ebc3"
      },
      "execution_count": 3,
      "outputs": [
        {
          "output_type": "stream",
          "name": "stdout",
          "text": [
            "My dog's name is jhon.\n",
            "My dog is 8 years old.\n"
          ]
        }
      ]
    },
    {
      "cell_type": "code",
      "source": [
        "my_dog.sit()\n",
        "my_dog.roll_over()"
      ],
      "metadata": {
        "colab": {
          "base_uri": "https://localhost:8080/"
        },
        "id": "lDp1Uzv7gZnU",
        "outputId": "66ac2ea8-30fd-4244-a3ec-7f0ada8cd918"
      },
      "execution_count": 4,
      "outputs": [
        {
          "output_type": "stream",
          "name": "stdout",
          "text": [
            "Willie is now sitting.\n",
            "Willie rolled over!\n"
          ]
        }
      ]
    },
    {
      "cell_type": "code",
      "source": [
        "you_dog.sit()\n",
        "you_dog.roll_over()"
      ],
      "metadata": {
        "colab": {
          "base_uri": "https://localhost:8080/"
        },
        "id": "ixVGylMdgc-Q",
        "outputId": "b23cf9d5-5d81-4d50-bbe9-ea66d5586716"
      },
      "execution_count": 5,
      "outputs": [
        {
          "output_type": "stream",
          "name": "stdout",
          "text": [
            "jhon is now sitting.\n",
            "jhon rolled over!\n"
          ]
        }
      ]
    },
    {
      "cell_type": "code",
      "source": [
        "\n",
        "class Car:\n",
        "    \"\"\"A simple attempt to represent a car.\"\"\"\n",
        "    def __init__(self, make, model, year):\n",
        "        \"\"\"Initialize attributes to describe a car.\"\"\"\n",
        "        self.make = make\n",
        "        self.model = model\n",
        "        self.year = year\n",
        "        self.odometer_reading = 0\n",
        "\n",
        "    def get_descriptive_name(self):\n",
        "        \"\"\"Return a neatly formatted descriptive name.\"\"\"\n",
        "        long_name = f\"{self.year} {self.make} {self.model}\"\n",
        "        return long_name.title()\n",
        "    def read_odometer(self):\n",
        "      \"\"\"Print a statement showing the car's mileage.\"\"\"\n",
        "      print(f\"This car has {self.odometer_reading} miles on it.\")\n",
        "\n",
        "    def update_odometer(self, mileage):\n",
        "      \"\"\"Set the odometer reading to the given value.\"\"\"\n",
        "      self.odometer_reading = mileage\n"
      ],
      "metadata": {
        "id": "aaDl_YNYhrr9"
      },
      "execution_count": 9,
      "outputs": []
    },
    {
      "cell_type": "code",
      "source": [
        "my_new_car = Car('audi', 'a4', 2019)\n",
        "print(my_new_car.get_descriptive_name())\n",
        "my_new_car.read_odometer()"
      ],
      "metadata": {
        "colab": {
          "base_uri": "https://localhost:8080/"
        },
        "id": "04sdW8aWhrpQ",
        "outputId": "37a87612-e737-47ec-a893-5a9ab6e90f5a"
      },
      "execution_count": 10,
      "outputs": [
        {
          "output_type": "stream",
          "name": "stdout",
          "text": [
            "2019 Audi A4\n",
            "This car has 0 miles on it.\n"
          ]
        }
      ]
    },
    {
      "cell_type": "code",
      "source": [
        "my_new_car.odometer_reading = 23\n",
        "my_new_car.read_odometer()"
      ],
      "metadata": {
        "colab": {
          "base_uri": "https://localhost:8080/"
        },
        "id": "JJxbv7cKkgM-",
        "outputId": "aac4be52-04e5-44cf-a370-bbb3ffb86997"
      },
      "execution_count": 11,
      "outputs": [
        {
          "output_type": "stream",
          "name": "stdout",
          "text": [
            "This car has 23 miles on it.\n"
          ]
        }
      ]
    },
    {
      "cell_type": "code",
      "source": [
        "my_new_car.update_odometer(46)\n",
        "my_new_car.read_odometer()"
      ],
      "metadata": {
        "colab": {
          "base_uri": "https://localhost:8080/"
        },
        "id": "EUuXKj55lRKK",
        "outputId": "28fbde3d-5fc1-46ec-df16-75b2ad70d8d8"
      },
      "execution_count": 12,
      "outputs": [
        {
          "output_type": "stream",
          "name": "stdout",
          "text": [
            "This car has 46 miles on it.\n"
          ]
        }
      ]
    }
  ]
}