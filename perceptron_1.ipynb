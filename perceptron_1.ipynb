{
  "nbformat": 4,
  "nbformat_minor": 0,
  "metadata": {
    "colab": {
      "name": "perceptron_1.ipynb",
      "provenance": [],
      "authorship_tag": "ABX9TyPDlBIKsk2izOCWIhEp5Wi9",
      "include_colab_link": true
    },
    "kernelspec": {
      "name": "python379jvsc74a57bd097ae724bfa85b9b34df7982b8bb8c7216f435b92902d749e4263f71162bea840",
      "display_name": "Python 3.7.9 64-bit ('base': conda)"
    },
    "language_info": {
      "name": "python",
      "version": "3.7.9"
    },
    "accelerator": "GPU"
  },
  "cells": [
  	{
      "cell_type": "markdown",
      "metadata": {
        "id": "view-in-github",
        "colab_type": "text"
      },
      "source": [
        "<a href=\"https://colab.research.google.com/github/Abdel-rahim/preceptron_test/blob/main/perceptron_1.ipynb\" target=\"_parent\"><img src=\"https://colab.research.google.com/assets/colab-badge.svg\" alt=\"Open In Colab\"/></a>"
      ]
    },
    {
      "cell_type": "code",
      "metadata": {
        "id": "iV6SuazrqHr-"
      },
      "source": [
        "# import the necessary packages\n",
        "import numpy as np\n",
        "\n",
        "class Perceptron:\n",
        "  def __init__(self, N, alpha=0.1):\n",
        "    # initialize the weight matrix and store the learning rate N for input and one for bias\n",
        "    self.W = np.random.randn(N + 1) / np.sqrt(N)  \n",
        "    self.alpha = alpha\n",
        "    \n",
        "  def step(self, x):\n",
        "    # apply the step function\n",
        "    return 1 if x > 0 else 0\n",
        "\n",
        "  def fit(self, X, y, epochs=10):\n",
        "    # insert a column of 1’s as the last entry in the feature\n",
        "    # matrix -- this little trick allows us to treat the bias\n",
        "    # as a trainable parameter within the weight matrix\n",
        "    X = np.c_[X, np.ones((X.shape[0]))]\n",
        "\n",
        "    # loop over the desired number of epochs\n",
        "    for epoch in np.arange(0, epochs):\n",
        "      # loop over each individual data point\n",
        "      for (x, target) in zip(X, y):\n",
        "        # take the dot product between the input features\n",
        "        # and the weight matrix, then pass this value\n",
        "        # through the step function to obtain the prediction\n",
        "        p = self.step(np.dot(x, self.W))\n",
        "          \n",
        "        # only perform a weight update if our prediction\n",
        "        # does not match the target\n",
        "        if p != target:\n",
        "          # determine the error\n",
        "          error = p - target\n",
        "          # update the weight matrix\n",
        "          self.W += -self.alpha * error * x\n",
        "\n",
        "  def predict(self, X, addBias=True):\n",
        "    # ensure our input is a matrix\n",
        "    X = np.atleast_2d(X)\n",
        "      \n",
        "    # check to see if the bias column should be added\n",
        "    if addBias:\n",
        "      # insert a column of 1’s as the last entry in the feature\n",
        "      # matrix (bias)\n",
        "      X = np.c_[X, np.ones((X.shape[0]))]\n",
        "          \n",
        "      # take the dot product between the input features and the\n",
        "      # weight matrix, then pass the value through the step\n",
        "      # function\n",
        "      return self.step(np.dot(X, self.W))"
      ],
      "execution_count": 1,
      "outputs": []
    },
    {
      "cell_type": "code",
      "metadata": {
        "colab": {
          "base_uri": "https://localhost:8080/"
        },
        "id": "tZVo_WbiybMh",
        "outputId": "0f9e6bd0-8d05-4b75-f51f-74e90f6ef408"
      },
      "source": [
        "# import the necessary packages\n",
        "# import numpy as np\n",
        "\n",
        "# construct the OR dataset\n",
        "X = np.array([[0, 0], [0, 1], [1, 0], [1, 1]])\n",
        "y = np.array([[0], [1], [1], [1]])\n",
        "\n",
        "# define our perceptron and train it\n",
        "print(\"[INFO] training perceptron...\")\n",
        "p = Perceptron(X.shape[1], alpha=0.1)\n",
        "p.fit(X, y, epochs=20)"
      ],
      "execution_count": 2,
      "outputs": [
        {
          "output_type": "stream",
          "text": [
            "[INFO] training perceptron...\n"
          ],
          "name": "stdout"
        }
      ]
    },
    {
      "cell_type": "code",
      "metadata": {
        "colab": {
          "base_uri": "https://localhost:8080/"
        },
        "id": "u498GDd454K3",
        "outputId": "5fffae0d-1e78-4c3b-ae61-d16d4daa630b"
      },
      "source": [
        "# now that our perceptron is trained we can evaluate it\n",
        "print(\"[INFO] testing perceptron...\")\n",
        "\n",
        "# now that our network is trained, loop over the data points\n",
        "for (x, target) in zip(X, y):\n",
        "  # make a prediction on the data point and display the result\n",
        "  # to our console\n",
        "  pred = p.predict(x)\n",
        "  print(\"[INFO] data={}, ground-truth={}, pred={}\".format(x, target[0], pred))"
      ],
      "execution_count": 3,
      "outputs": [
        {
          "output_type": "stream",
          "text": [
            "[INFO] testing perceptron...\n",
            "[INFO] data=[0 0], ground-truth=0, pred=0\n",
            "[INFO] data=[0 1], ground-truth=1, pred=1\n",
            "[INFO] data=[1 0], ground-truth=1, pred=1\n",
            "[INFO] data=[1 1], ground-truth=1, pred=1\n"
          ],
          "name": "stdout"
        }
      ]
    },
    {
      "cell_type": "code",
      "metadata": {
        "colab": {
          "base_uri": "https://localhost:8080/"
        },
        "id": "W-PErebzuKrl",
        "outputId": "e207cce0-83f8-44ea-db2d-084f7762219f"
      },
      "source": [
        "# AND\n",
        "# construct the AND dataset\n",
        "X = np.array([[0, 0], [0, 1], [1, 0], [1, 1]])\n",
        "y = np.array([[0], [0], [0], [1]])\n",
        "\n",
        "# define our perceptron and train it\n",
        "print(\"[INFO] training perceptron...\")\n",
        "p = Perceptron(X.shape[1], alpha=0.1)\n",
        "p.fit(X, y, epochs=20)\n",
        "# now that our perceptron is trained we can evaluate it\n",
        "print(\"[INFO] testing perceptron...\")\n",
        "\n",
        "# now that our network is trained, loop over the data points\n",
        "for (x, target) in zip(X, y):\n",
        "    # make a prediction on the data point and display the result\n",
        "    # to our console\n",
        "    pred = p.predict(x)\n",
        "    print(\"[INFO] data={}, ground-truth={}, pred={}\".format(x, target[0], pred))"
      ],
      "execution_count": 4,
      "outputs": [
        {
          "output_type": "stream",
          "text": [
            "[INFO] training perceptron...\n",
            "[INFO] testing perceptron...\n",
            "[INFO] data=[0 0], ground-truth=0, pred=0\n",
            "[INFO] data=[0 1], ground-truth=0, pred=0\n",
            "[INFO] data=[1 0], ground-truth=0, pred=0\n",
            "[INFO] data=[1 1], ground-truth=1, pred=1\n"
          ],
          "name": "stdout"
        }
      ]
    },
    {
      "cell_type": "code",
      "metadata": {
        "colab": {
          "base_uri": "https://localhost:8080/"
        },
        "id": "OC5fG9m8uMD2",
        "outputId": "032e2e76-8aff-431d-935d-aeef9a292960"
      },
      "source": [
        "# construct the XOR dataset\n",
        "X = np.array([[0, 0], [0, 1], [1, 0], [1, 1]])\n",
        "y = np.array([[0], [1], [1], [0]])\n",
        "# define our perceptron and train it\n",
        "print(\"[INFO] training perceptron...\")\n",
        "p = Perceptron(X.shape[1], alpha=0.1)\n",
        "p.fit(X, y, epochs=20)\n",
        "\n",
        "# now that our perceptron is trained we can evaluate it\n",
        "print(\"[INFO] testing perceptron...\")\n",
        "\n",
        "# now that our network is trained, loop over the data points\n",
        "for (x, target) in zip(X, y):\n",
        "    # make a prediction on the data point and display the result\n",
        "    # to our console\n",
        "    pred = p.predict(x)\n",
        "    print(\"[INFO] data={}, ground-truth={}, pred={}\".format(x, target[0], pred))\n"
      ],
      "execution_count": 5,
      "outputs": [
        {
          "output_type": "stream",
          "text": [
            "[INFO] training perceptron...\n",
            "[INFO] testing perceptron...\n",
            "[INFO] data=[0 0], ground-truth=0, pred=1\n",
            "[INFO] data=[0 1], ground-truth=1, pred=1\n",
            "[INFO] data=[1 0], ground-truth=1, pred=0\n",
            "[INFO] data=[1 1], ground-truth=0, pred=0\n"
          ],
          "name": "stdout"
        }
      ]
    },
    {
      "cell_type": "code",
      "metadata": {
        "id": "hpSgZsq-wTyB",
        "colab": {
          "base_uri": "https://localhost:8080/"
        },
        "outputId": "2c54e3c3-16c0-4cf1-8668-9f94cace26b7"
      },
      "source": [
        "# NAND\n",
        "# importing Python library\n",
        "# import numpy as np\n",
        "  \n",
        "# define Unit Step Function\n",
        "def unitStep(v):\n",
        "    if v >= 0:\n",
        "        return 1\n",
        "    else:\n",
        "        return 0\n",
        "  \n",
        "# design Perceptron Model\n",
        "def perceptronModel(x, w, b):\n",
        "    v = np.dot(w, x) + b\n",
        "    y = unitStep(v)\n",
        "    return y\n",
        "  \n",
        "# NOT Logic Function\n",
        "# wNOT = -1, bNOT = 0.5\n",
        "def NOT_logicFunction(x):\n",
        "    wNOT = -1\n",
        "    bNOT = 0.5\n",
        "    return perceptronModel(x, wNOT, bNOT)\n",
        "  \n",
        "# AND Logic Function\n",
        "# w1 = 1, w2 = 1, bAND = -1.5\n",
        "def AND_logicFunction(x):\n",
        "    w = np.array([1, 1])\n",
        "    bAND = -1.5\n",
        "    return perceptronModel(x, w, bAND)\n",
        "  \n",
        "print(\"[INFO] training perceptron...\")\n",
        "# NAND Logic Function\n",
        "# with AND and NOT  \n",
        "# function calls in sequence\n",
        "def NAND_logicFunction(x):\n",
        "    output_AND = AND_logicFunction(x)\n",
        "    output_NOT = NOT_logicFunction(output_AND)\n",
        "    return output_NOT\n",
        "\n",
        "print(\"[INFO] testing perceptron...\")\n",
        "# testing the Perceptron Model\n",
        "test1 = np.array([0, 1])\n",
        "test2 = np.array([1, 1])\n",
        "test3 = np.array([0, 0])\n",
        "test4 = np.array([1, 0])\n",
        "  \n",
        "print(\"NAND({}, {}) = {}\".format(0, 1, NAND_logicFunction(test1)))\n",
        "print(\"NAND({}, {}) = {}\".format(1, 1, NAND_logicFunction(test2)))\n",
        "print(\"NAND({}, {}) = {}\".format(0, 0, NAND_logicFunction(test3)))\n",
        "print(\"NAND({}, {}) = {}\".format(1, 0, NAND_logicFunction(test4)))"
      ],
      "execution_count": 6,
      "outputs": [
        {
          "output_type": "stream",
          "text": [
            "[INFO] training perceptron...\n",
            "[INFO] testing perceptron...\n",
            "NAND(0, 1) = 1\n",
            "NAND(1, 1) = 0\n",
            "NAND(0, 0) = 1\n",
            "NAND(1, 0) = 1\n"
          ],
          "name": "stdout"
        }
      ]
    }
  ]
}