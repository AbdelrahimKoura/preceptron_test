{
  "nbformat": 4,
  "nbformat_minor": 0,
  "metadata": {
    "colab": {
      "name": "perceptron_1.ipynb",
      "provenance": [],
      "include_colab_link": true
    },
    "kernelspec": {
      "name": "python3",
      "display_name": "Python 3"
    },
    "language_info": {
      "name": "python"
    },
    "accelerator": "GPU"
  },
  "cells": [
    {
      "cell_type": "markdown",
      "metadata": {
        "id": "view-in-github",
        "colab_type": "text"
      },
      "source": [
        "<a href=\"https://colab.research.google.com/github/mahmoudkhaledz/preceptron_test/blob/main/perceptron_1.ipynb\" target=\"_parent\"><img src=\"https://colab.research.google.com/assets/colab-badge.svg\" alt=\"Open In Colab\"/></a>"
      ]
    },
    {
      "cell_type": "code",
      "metadata": {
        "id": "iV6SuazrqHr-"
      },
      "source": [
        "# import the necessary packages\n",
        "import numpy as np\n",
        "\n",
        "class Perceptron:\n",
        "  def __init__(self, N, alpha=0.1):\n",
        "    # initialize the weight matrix and store the learning rate N for input and one for bias\n",
        "    self.W = np.random.randn(N + 1) / np.sqrt(N)  \n",
        "    self.alpha = alpha\n",
        "    \n",
        "  def step(self, x):\n",
        "    # apply the step function\n",
        "    return 1 if x > 0 else 0\n",
        "\n",
        "  def fit(self, X, y, epochs=10):\n",
        "    # insert a column of 1’s as the last entry in the feature\n",
        "    # matrix -- this little trick allows us to treat the bias\n",
        "    # as a trainable parameter within the weight matrix\n",
        "    X = np.c_[X, np.ones((X.shape[0]))]\n",
        "\n",
        "    # loop over the desired number of epochs\n",
        "    for epoch in np.arange(0, epochs):\n",
        "      # loop over each individual data point\n",
        "      for (x, target) in zip(X, y):\n",
        "        # take the dot product between the input features\n",
        "        # and the weight matrix, then pass this value\n",
        "        # through the step function to obtain the prediction\n",
        "        p = self.step(np.dot(x, self.W))\n",
        "          \n",
        "        # only perform a weight update if our prediction\n",
        "        # does not match the target\n",
        "        if p != target:\n",
        "          # determine the error\n",
        "          error = p - target\n",
        "          # update the weight matrix\n",
        "          self.W += -self.alpha * error * x\n",
        "\n",
        "  def predict(self, X, addBias=True):\n",
        "    # ensure our input is a matrix\n",
        "    X = np.atleast_2d(X)\n",
        "      \n",
        "    # check to see if the bias column should be added\n",
        "    if addBias:\n",
        "      # insert a column of 1’s as the last entry in the feature\n",
        "      # matrix (bias)\n",
        "      X = np.c_[X, np.ones((X.shape[0]))]\n",
        "          \n",
        "      # take the dot product between the input features and the\n",
        "      # weight matrix, then pass the value through the step\n",
        "      # function\n",
        "      return self.step(np.dot(X, self.W))"
      ],
      "execution_count": 2,
      "outputs": []
    },
    {
      "cell_type": "code",
      "metadata": {
        "colab": {
          "base_uri": "https://localhost:8080/"
        },
        "id": "tZVo_WbiybMh",
        "outputId": "d35f13ea-68cb-4291-a02e-517300b6f2bd"
      },
      "source": [
        "# import the necessary packages\n",
        "# from pyimagesearch.nn import Perceptron\n",
        "# import numpy as np\n",
        "\n",
        "# construct the OR dataset\n",
        "X = np.array([[0, 0], [0, 1], [1, 0], [1, 1]])\n",
        "y = np.array([[0], [1], [1], [1]])\n",
        "\n",
        "# define our perceptron and train it\n",
        "print(\"[INFO] training perceptron...\")\n",
        "p = Perceptron(X.shape[1], alpha=0.1)\n",
        "p.fit(X, y, epochs=20)"
      ],
      "execution_count": 3,
      "outputs": [
        {
          "output_type": "stream",
          "text": [
            "[INFO] training perceptron...\n"
          ],
          "name": "stdout"
        }
      ]
    },
    {
      "cell_type": "code",
      "metadata": {
        "colab": {
          "base_uri": "https://localhost:8080/"
        },
        "id": "u498GDd454K3",
        "outputId": "34ff1338-1034-40c7-cafa-3ca7d4fb81b2"
      },
      "source": [
        "# now that our perceptron is trained we can evaluate it\n",
        "print(\"[INFO] testing perceptron...\")\n",
        "\n",
        "# now that our network is trained, loop over the data points\n",
        "for (x, target) in zip(X, y):\n",
        "  # make a prediction on the data point and display the result\n",
        "  # to our console\n",
        "  pred = p.predict(x)\n",
        "  print(\"[INFO] data={}, ground-truth={}, pred={}\".format(x, target[0], pred))"
      ],
      "execution_count": 4,
      "outputs": [
        {
          "output_type": "stream",
          "text": [
            "[INFO] testing perceptron...\n",
            "[INFO] data=[0 0], ground-truth=0, pred=0\n",
            "[INFO] data=[0 1], ground-truth=1, pred=1\n",
            "[INFO] data=[1 0], ground-truth=1, pred=1\n",
            "[INFO] data=[1 1], ground-truth=1, pred=1\n"
          ],
          "name": "stdout"
        }
      ]
    },
    {
      "cell_type": "code",
      "metadata": {
        "colab": {
          "base_uri": "https://localhost:8080/"
        },
        "id": "W-PErebzuKrl",
        "outputId": "608ae655-f057-46fa-df3e-e1412dd79ea0"
      },
      "source": [
        "# AND\n",
        "# construct the AND dataset\n",
        "X = np.array([[0, 0], [0, 1], [1, 0], [1, 1]])\n",
        "y = np.array([[0], [0], [0], [1]])\n",
        "\n",
        "# define our perceptron and train it\n",
        "print(\"[INFO] training perceptron...\")\n",
        "p = Perceptron(X.shape[1], alpha=0.1)\n",
        "p.fit(X, y, epochs=20)\n",
        "# now that our perceptron is trained we can evaluate it\n",
        "print(\"[INFO] testing perceptron...\")\n",
        "\n",
        "# now that our network is trained, loop over the data points\n",
        "for (x, target) in zip(X, y):\n",
        "    # make a prediction on the data point and display the result\n",
        "    # to our console\n",
        "    pred = p.predict(x)\n",
        "    print(\"[INFO] data={}, ground-truth={}, pred={}\".format(x, target[0], pred))"
      ],
      "execution_count": 5,
      "outputs": [
        {
          "output_type": "stream",
          "text": [
            "[INFO] training perceptron...\n",
            "[INFO] testing perceptron...\n",
            "[INFO] data=[0 0], ground-truth=0, pred=0\n",
            "[INFO] data=[0 1], ground-truth=0, pred=0\n",
            "[INFO] data=[1 0], ground-truth=0, pred=0\n",
            "[INFO] data=[1 1], ground-truth=1, pred=1\n"
          ],
          "name": "stdout"
        }
      ]
    },
    {
      "cell_type": "code",
      "metadata": {
        "colab": {
          "base_uri": "https://localhost:8080/"
        },
        "id": "OC5fG9m8uMD2",
        "outputId": "ded3eb79-9a74-4a03-d4a3-8c337912b2e5"
      },
      "source": [
        "# construct the XOR dataset\n",
        "X = np.array([[0, 0], [0, 1], [1, 0], [1, 1]])\n",
        "y = np.array([[0], [1], [1], [0]])\n",
        "# define our perceptron and train it\n",
        "print(\"[INFO] training perceptron...\")\n",
        "p = Perceptron(X.shape[1], alpha=0.1)\n",
        "p.fit(X, y, epochs=20)\n",
        "\n",
        "# now that our perceptron is trained we can evaluate it\n",
        "print(\"[INFO] testing perceptron...\")\n",
        "\n",
        "# now that our network is trained, loop over the data points\n",
        "for (x, target) in zip(X, y):\n",
        "    # make a prediction on the data point and display the result\n",
        "    # to our console\n",
        "    pred = p.predict(x)\n",
        "    print(\"[INFO] data={}, ground-truth={}, pred={}\".format(x, target[0], pred))\n"
      ],
      "execution_count": 6,
      "outputs": [
        {
          "output_type": "stream",
          "text": [
            "[INFO] training perceptron...\n",
            "[INFO] testing perceptron...\n",
            "[INFO] data=[0 0], ground-truth=0, pred=0\n",
            "[INFO] data=[0 1], ground-truth=1, pred=0\n",
            "[INFO] data=[1 0], ground-truth=1, pred=0\n",
            "[INFO] data=[1 1], ground-truth=0, pred=0\n"
          ],
          "name": "stdout"
        }
      ]
    },
    {
      "cell_type": "code",
      "metadata": {
        "id": "YQiO75Oos7Ow",
        "outputId": "c0e94274-4f72-4bf8-ab2d-1a0057de4199",
        "colab": {
          "base_uri": "https://localhost:8080/"
        }
      },
      "source": [
        "# construct the NAND dataset\n",
        "X = np.array([[0, 0], [0, 1], [1, 0], [1, 1]])\n",
        "y = np.array([[1], [1], [1], [0]])\n",
        "# define our perceptron and train it\n",
        "print(\"[INFO] training perceptron...\")\n",
        "p = Perceptron(X.shape[1], alpha=0.1)\n",
        "p.fit(X, y, epochs=20)\n",
        "\n",
        "# now that our perceptron is trained we can evaluate it\n",
        "print(\"[INFO] testing perceptron...\")\n",
        "\n",
        "# now that our network is trained, loop over the data points\n",
        "for (x, target) in zip(X, y):\n",
        "    # make a prediction on the data point and display the result\n",
        "    # to our console\n",
        "    pred = p.predict(x)\n",
        "    print(\"[INFO] data={}, ground-truth={}, pred={}\".format(x, target[0], pred))"
      ],
      "execution_count": 7,
      "outputs": [
        {
          "output_type": "stream",
          "text": [
            "[INFO] training perceptron...\n",
            "[INFO] testing perceptron...\n",
            "[INFO] data=[0 0], ground-truth=1, pred=1\n",
            "[INFO] data=[0 1], ground-truth=1, pred=1\n",
            "[INFO] data=[1 0], ground-truth=1, pred=1\n",
            "[INFO] data=[1 1], ground-truth=0, pred=0\n"
          ],
          "name": "stdout"
        }
      ]
    }
  ]
}