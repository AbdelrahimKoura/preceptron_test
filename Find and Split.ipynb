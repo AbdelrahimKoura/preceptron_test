{
 "cells": [
  {
   "cell_type": "code",
   "execution_count": 1,
   "metadata": {},
   "outputs": [],
   "source": [
    "# Type your Code Here \n",
    "def s1(letter1,x2):\n",
    "    sum=''\n",
    "    for x in range(len(letter1)):\n",
    "        if letter1[x]==x2:\n",
    "            a1=letter1[:x] \n",
    "            a2=letter1[x+1:]\n",
    "            print(a1+a2)\n",
    "            break;"
   ]
  },
  {
   "cell_type": "code",
   "execution_count": 2,
   "metadata": {},
   "outputs": [
    {
     "name": "stdout",
     "output_type": "stream",
     "text": [
      "Ao Khayria byslem 3lyk\n"
     ]
    }
   ],
   "source": [
    "s1('Abo Khayria byslem 3lyk','b')"
   ]
  }
 ],
 "metadata": {
  "kernelspec": {
   "display_name": "Python 3",
   "language": "python",
   "name": "python3"
  },
  "language_info": {
   "codemirror_mode": {
    "name": "ipython",
    "version": 3
   },
   "file_extension": ".py",
   "mimetype": "text/x-python",
   "name": "python",
   "nbconvert_exporter": "python",
   "pygments_lexer": "ipython3",
   "version": "3.7.4"
  }
 },
 "nbformat": 4,
 "nbformat_minor": 2
}
